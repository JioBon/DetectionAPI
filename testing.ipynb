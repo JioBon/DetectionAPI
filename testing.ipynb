{
 "cells": [
  {
   "cell_type": "code",
   "execution_count": 104,
   "metadata": {},
   "outputs": [],
   "source": [
    "import torch\n",
    "import numpy as np\n",
    "import cv2\n",
    "from utils.general import non_max_suppression, xywh2xyxy"
   ]
  },
  {
   "cell_type": "code",
   "execution_count": 105,
   "metadata": {},
   "outputs": [],
   "source": [
    "label_dict = {\n",
    "    0: 'dog',\n",
    "    1: 'person',\n",
    "    2: 'cat',\n",
    "    3: 'tv',\n",
    "    4: 'car',\n",
    "    5: 'meatballs',\n",
    "    6: 'marinara sauce',\n",
    "    7: 'tomato soup',\n",
    "    8: 'chicken noodle soup',\n",
    "    9: 'french onion soup',\n",
    "    10: 'chicken breast',\n",
    "    11: 'ribs',\n",
    "    12: 'pulled pork',\n",
    "    13: 'hamburger',\n",
    "    14: 'cavity',\n",
    "    15: 'leaf miners',\n",
    "    16: 'downy mildew',\n",
    "    17: 'botrytis leaf blight',\n",
    "    18: 'armyworm'\n",
    "}"
   ]
  },
  {
   "cell_type": "code",
   "execution_count": 106,
   "metadata": {},
   "outputs": [
    {
     "name": "stderr",
     "output_type": "stream",
     "text": [
      "Using cache found in C:\\Users\\user/.cache\\torch\\hub\\ultralytics_yolov5_master\n",
      "YOLOv5  2023-4-4 Python-3.9.16 torch-1.9.0+cu102 CUDA:0 (NVIDIA GeForce GTX 1650 SUPER, 4096MiB)\n",
      "\n",
      "Fusing layers... \n",
      "Model summary: 157 layers, 7061368 parameters, 0 gradients, 15.9 GFLOPs\n",
      "Adding AutoShape... \n"
     ]
    }
   ],
   "source": [
    "model = torch.hub.load('ultralytics/yolov5', 'custom', path='custom_model/Onion.pt')"
   ]
  },
  {
   "cell_type": "code",
   "execution_count": 107,
   "metadata": {},
   "outputs": [],
   "source": [
    "img = cv2.imread('testblb.png')\n",
    "img = cv2.cvtColor(img, cv2.COLOR_BGR2RGB)"
   ]
  },
  {
   "cell_type": "code",
   "execution_count": 108,
   "metadata": {},
   "outputs": [],
   "source": [
    "results = model(img)"
   ]
  },
  {
   "cell_type": "code",
   "execution_count": 109,
   "metadata": {},
   "outputs": [
    {
     "name": "stderr",
     "output_type": "stream",
     "text": [
      "image 1/1: 266x501 1 botrytis leaf blight\n",
      "Speed: 3.0ms pre-process, 8.0ms inference, 2.0ms NMS per image at shape (1, 3, 352, 640)\n"
     ]
    }
   ],
   "source": [
    "results.print()"
   ]
  },
  {
   "cell_type": "code",
   "execution_count": 110,
   "metadata": {},
   "outputs": [],
   "source": [
    "detections = results.xyxy[0]"
   ]
  },
  {
   "cell_type": "code",
   "execution_count": 111,
   "metadata": {},
   "outputs": [
    {
     "name": "stdout",
     "output_type": "stream",
     "text": [
      "tensor([[106.91775,  91.52608, 501.00000, 218.39218,   0.78491,  17.00000]], device='cuda:0')\n"
     ]
    }
   ],
   "source": [
    "print(detections)"
   ]
  },
  {
   "cell_type": "code",
   "execution_count": 113,
   "metadata": {},
   "outputs": [],
   "source": [
    "for detection in detections:\n",
    "    label = detection[-1]\n",
    "    label = label_dict[int(label)]\n",
    "    conf = detection[-2]\n",
    "    x1, y1, x2, y2 = map(int, detection[:4])\n",
    "    cv2.rectangle(img, (x1, y1), (x2, y2), (0, 255, 0), 2)\n",
    "    cv2.putText(img, f'{label} {conf:.2f}', (x1, y1 - 10), cv2.FONT_HERSHEY_SIMPLEX, 0.5, (0, 255, 0), 2)\n"
   ]
  },
  {
   "cell_type": "code",
   "execution_count": 114,
   "metadata": {},
   "outputs": [],
   "source": [
    "cv2.imshow('image', img)\n",
    "cv2.waitKey(0)\n",
    "cv2.destroyAllWindows()"
   ]
  },
  {
   "cell_type": "code",
   "execution_count": null,
   "metadata": {},
   "outputs": [],
   "source": []
  }
 ],
 "metadata": {
  "kernelspec": {
   "display_name": "cudaconda",
   "language": "python",
   "name": "python3"
  },
  "language_info": {
   "codemirror_mode": {
    "name": "ipython",
    "version": 3
   },
   "file_extension": ".py",
   "mimetype": "text/x-python",
   "name": "python",
   "nbconvert_exporter": "python",
   "pygments_lexer": "ipython3",
   "version": "3.9.16"
  },
  "orig_nbformat": 4
 },
 "nbformat": 4,
 "nbformat_minor": 2
}
